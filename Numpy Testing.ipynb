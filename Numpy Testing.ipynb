{
 "cells": [
  {
   "cell_type": "code",
   "execution_count": 4,
   "metadata": {
    "collapsed": false
   },
   "outputs": [
    {
     "name": "stdout",
     "output_type": "stream",
     "text": [
      "[1, 1, 2, 3, 6, 8, 10]\n"
     ]
    }
   ],
   "source": [
    "def quicksort(arr):\n",
    "    if len(arr) <= 1:\n",
    "        return arr\n",
    "    else:\n",
    "        pivot = arr[len(arr)/2]\n",
    "        left = [x for x in arr if x<pivot]\n",
    "        middle = [x for x in arr if x == pivot]\n",
    "        right = [x for x in arr if x>pivot]\n",
    "        ## They're all lists, so using the '+' operator will concatenate the results\n",
    "        return quicksort(left) + middle + quicksort(right)\n",
    "    \n",
    "print quicksort([3,6,8,10,1,2,1])\n",
    "        "
   ]
  },
  {
   "cell_type": "code",
   "execution_count": null,
   "metadata": {
    "collapsed": true
   },
   "outputs": [],
   "source": []
  },
  {
   "cell_type": "code",
   "execution_count": 6,
   "metadata": {
    "collapsed": false
   },
   "outputs": [
    {
     "name": "stdout",
     "output_type": "stream",
     "text": [
      "A person has 2 legs\n",
      "A spider has 8 legs\n",
      "A cat has 4 legs\n"
     ]
    }
   ],
   "source": [
    "d = {'person': 2, 'cat': 4, 'spider': 8}\n",
    "for animal, legs in d.iteritems():\n",
    "    print 'A %s has %d legs' % (animal, legs)"
   ]
  },
  {
   "cell_type": "code",
   "execution_count": 9,
   "metadata": {
    "collapsed": false
   },
   "outputs": [
    {
     "name": "stdout",
     "output_type": "stream",
     "text": [
      "True\n"
     ]
    }
   ],
   "source": [
    "hi_im_a_set = {\"Bacon\",\"Burger\"}\n",
    "print \"Bacon\" in hi_im_a_set"
   ]
  },
  {
   "cell_type": "code",
   "execution_count": 10,
   "metadata": {
    "collapsed": false
   },
   "outputs": [
    {
     "name": "stdout",
     "output_type": "stream",
     "text": [
      "55\n"
     ]
    }
   ],
   "source": [
    "import numpy as np\n",
    "array = np.array([1,2,3,4,5])\n",
    "array2 = np.array([1,2,3,4,5])\n",
    "\n",
    "print array.dot(array2)"
   ]
  },
  {
   "cell_type": "code",
   "execution_count": 12,
   "metadata": {
    "collapsed": false
   },
   "outputs": [
    {
     "name": "stdout",
     "output_type": "stream",
     "text": [
      "(5,)\n"
     ]
    }
   ],
   "source": [
    "print array.shape"
   ]
  },
  {
   "cell_type": "code",
   "execution_count": 13,
   "metadata": {
    "collapsed": false
   },
   "outputs": [
    {
     "name": "stdout",
     "output_type": "stream",
     "text": [
      "[1 4 5]\n",
      "[1 4 5]\n",
      "[2 2]\n",
      "[2 2]\n"
     ]
    }
   ],
   "source": [
    "import numpy as np\n",
    "\n",
    "a = np.array([[1,2], [3, 4], [5, 6]])\n",
    "\n",
    "# An example of integer array indexing.\n",
    "# The returned array will have shape (3,) and \n",
    "print a[[0, 1, 2], [0, 1, 0]]  # Prints \"[1 4 5]\"\n",
    "\n",
    "# The above example of integer array indexing is equivalent to this:\n",
    "print np.array([a[0, 0], a[1, 1], a[2, 0]])  # Prints \"[1 4 5]\"\n",
    "\n",
    "# When using integer array indexing, you can reuse the same\n",
    "# element from the source array:\n",
    "print a[[0, 0], [1, 1]]  # Prints \"[2 2]\"\n",
    "\n",
    "# Equivalent to the previous integer array indexing example\n",
    "print np.array([a[0, 1], a[0, 1]])  # Prints \"[2 2]\""
   ]
  },
  {
   "cell_type": "code",
   "execution_count": 1,
   "metadata": {
    "collapsed": true
   },
   "outputs": [],
   "source": [
    "def L_i_vectorized(example,label, parametric_weights):\n",
    "    #First, calculate the score for all classes\n",
    "    label_score = np.dot(parametric_weights,example)\n",
    "    # Then, calculate the margins, this returns a vector where every entry has the score[j] - score[label]+1 value\n",
    "    margin = np.maximum(0, scores - scores[label]+1)\n",
    "    # Erase redundant factor, you don't need to subtract this example's label\n",
    "    margin[label] = 0\n",
    "    # And finally, calculate the total loss\n",
    "    loss_i = np.sum(margin)\n",
    "    # Return the total loss\n",
    "    return loss_i"
   ]
  },
  {
   "cell_type": "code",
   "execution_count": null,
   "metadata": {
    "collapsed": true
   },
   "outputs": [],
   "source": [
    "# Pseudo code\n",
    "\n",
    "class computational_graph(object):\n",
    "    def forward(inputs):\n",
    "        # 1-) Pass loss forward\n",
    "        # 2-) Final gate computes the loss\n",
    "        for gate in self.graph.nodes_topologically_sorted()\n",
    "        return loss\n",
    "    def backward():\n",
    "        for gate in reversed(self.graph.nodes_topologically_sorted()):\n",
    "            gate.backward\n",
    "        return inputs_gradients\n",
    "        \n",
    "class MultiplyGate(object):\n",
    "    # You need to remember the variables, that's why you need to store the intermediate variables\n",
    "    def forward(x,y):\n",
    "        self.x = x\n",
    "        self.y = y\n",
    "        z = x*y\n",
    "        return z\n",
    "    def backward(dz): #Partial of L in respect to Z\n",
    "        # TODO: Must differentiate dx and dy\n",
    "        dx = self.y*dz\n",
    "        dy = self.xx* dz\n",
    "        return [dx,dy] # Returns the partial of L in respect to X and Y"
   ]
  }
 ],
 "metadata": {
  "kernelspec": {
   "display_name": "Python 2",
   "language": "python",
   "name": "python2"
  },
  "language_info": {
   "codemirror_mode": {
    "name": "ipython",
    "version": 2
   },
   "file_extension": ".py",
   "mimetype": "text/x-python",
   "name": "python",
   "nbconvert_exporter": "python",
   "pygments_lexer": "ipython2",
   "version": "2.7.11"
  }
 },
 "nbformat": 4,
 "nbformat_minor": 0
}
