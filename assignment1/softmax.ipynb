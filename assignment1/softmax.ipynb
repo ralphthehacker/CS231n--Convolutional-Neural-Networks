{
 "cells": [
  {
   "cell_type": "markdown",
   "metadata": {},
   "source": [
    "# Softmax exercise\n",
    "\n",
    "*Complete and hand in this completed worksheet (including its outputs and any supporting code outside of the worksheet) with your assignment submission. For more details see the [assignments page](http://vision.stanford.edu/teaching/cs231n/assignments.html) on the course website.*\n",
    "\n",
    "This exercise is analogous to the SVM exercise. You will:\n",
    "\n",
    "- implement a fully-vectorized **loss function** for the Softmax classifier\n",
    "- implement the fully-vectorized expression for its **analytic gradient**\n",
    "- **check your implementation** with numerical gradient\n",
    "- use a validation set to **tune the learning rate and regularization** strength\n",
    "- **optimize** the loss function with **SGD**\n",
    "- **visualize** the final learned weights\n"
   ]
  },
  {
   "cell_type": "code",
   "execution_count": 5,
   "metadata": {
    "collapsed": false
   },
   "outputs": [
    {
     "name": "stdout",
     "output_type": "stream",
     "text": [
      "The autoreload extension is already loaded. To reload it, use:\n",
      "  %reload_ext autoreload\n"
     ]
    }
   ],
   "source": [
    "import random\n",
    "import numpy as np\n",
    "from cs231n.data_utils import load_CIFAR10\n",
    "import matplotlib.pyplot as plt\n",
    "%matplotlib inline\n",
    "plt.rcParams['figure.figsize'] = (10.0, 8.0) # set default size of plots\n",
    "plt.rcParams['image.interpolation'] = 'nearest'\n",
    "plt.rcParams['image.cmap'] = 'gray'\n",
    "\n",
    "# for auto-reloading extenrnal modules\n",
    "# see http://stackoverflow.com/questions/1907993/autoreload-of-modules-in-ipython\n",
    "%load_ext autoreload\n",
    "%autoreload 2"
   ]
  },
  {
   "cell_type": "code",
   "execution_count": 6,
   "metadata": {
    "collapsed": false
   },
   "outputs": [
    {
     "name": "stdout",
     "output_type": "stream",
     "text": [
      "<module 'posixpath' from '/Users/ralphblanes/anaconda/lib/python2.7/posixpath.pyc'>\n",
      "cs231n/datasets/cifar-10-batches-py/data_batch_1\n",
      "<module 'posixpath' from '/Users/ralphblanes/anaconda/lib/python2.7/posixpath.pyc'>\n",
      "cs231n/datasets/cifar-10-batches-py/data_batch_2\n",
      "<module 'posixpath' from '/Users/ralphblanes/anaconda/lib/python2.7/posixpath.pyc'>\n",
      "cs231n/datasets/cifar-10-batches-py/data_batch_3\n",
      "<module 'posixpath' from '/Users/ralphblanes/anaconda/lib/python2.7/posixpath.pyc'>\n",
      "cs231n/datasets/cifar-10-batches-py/data_batch_4\n",
      "<module 'posixpath' from '/Users/ralphblanes/anaconda/lib/python2.7/posixpath.pyc'>\n",
      "cs231n/datasets/cifar-10-batches-py/data_batch_5\n",
      "Train data shape:  (49000, 3073)\n",
      "Train labels shape:  (49000,)\n",
      "Validation data shape:  (1000, 3073)\n",
      "Validation labels shape:  (1000,)\n",
      "Test data shape:  (1000, 3073)\n",
      "Test labels shape:  (1000,)\n",
      "dev data shape:  (500, 3073)\n",
      "dev labels shape:  (500,)\n"
     ]
    }
   ],
   "source": [
    "def get_CIFAR10_data(num_training=49000, num_validation=1000, num_test=1000, num_dev=500):\n",
    "  \"\"\"\n",
    "  Load the CIFAR-10 dataset from disk and perform preprocessing to prepare\n",
    "  it for the linear classifier. These are the same steps as we used for the\n",
    "  SVM, but condensed to a single function.  \n",
    "  \"\"\"\n",
    "  # Load the raw CIFAR-10 data\n",
    "  cifar10_dir = 'cs231n/datasets/cifar-10-batches-py'\n",
    "  X_train, y_train, X_test, y_test = load_CIFAR10(cifar10_dir)\n",
    "  \n",
    "  # subsample the data\n",
    "  mask = range(num_training, num_training + num_validation)\n",
    "  X_val = X_train[mask]\n",
    "  y_val = y_train[mask]\n",
    "  mask = range(num_training)\n",
    "  X_train = X_train[mask]\n",
    "  y_train = y_train[mask]\n",
    "  mask = range(num_test)\n",
    "  X_test = X_test[mask]\n",
    "  y_test = y_test[mask]\n",
    "  mask = np.random.choice(num_training, num_dev, replace=False)\n",
    "  X_dev = X_train[mask]\n",
    "  y_dev = y_train[mask]\n",
    "  \n",
    "  # Preprocessing: reshape the image data into rows\n",
    "  X_train = np.reshape(X_train, (X_train.shape[0], -1))\n",
    "  X_val = np.reshape(X_val, (X_val.shape[0], -1))\n",
    "  X_test = np.reshape(X_test, (X_test.shape[0], -1))\n",
    "  X_dev = np.reshape(X_dev, (X_dev.shape[0], -1))\n",
    "  \n",
    "  # Normalize the data: subtract the mean image\n",
    "  mean_image = np.mean(X_train, axis = 0)\n",
    "  X_train -= mean_image\n",
    "  X_val -= mean_image\n",
    "  X_test -= mean_image\n",
    "  X_dev -= mean_image\n",
    "  \n",
    "  # add bias dimension and transform into columns\n",
    "  X_train = np.hstack([X_train, np.ones((X_train.shape[0], 1))])\n",
    "  X_val = np.hstack([X_val, np.ones((X_val.shape[0], 1))])\n",
    "  X_test = np.hstack([X_test, np.ones((X_test.shape[0], 1))])\n",
    "  X_dev = np.hstack([X_dev, np.ones((X_dev.shape[0], 1))])\n",
    "  \n",
    "  return X_train, y_train, X_val, y_val, X_test, y_test, X_dev, y_dev\n",
    "\n",
    "\n",
    "# Invoke the above function to get our data.\n",
    "X_train, y_train, X_val, y_val, X_test, y_test, X_dev, y_dev = get_CIFAR10_data()\n",
    "print 'Train data shape: ', X_train.shape\n",
    "print 'Train labels shape: ', y_train.shape\n",
    "print 'Validation data shape: ', X_val.shape\n",
    "print 'Validation labels shape: ', y_val.shape\n",
    "print 'Test data shape: ', X_test.shape\n",
    "print 'Test labels shape: ', y_test.shape\n",
    "print 'dev data shape: ', X_dev.shape\n",
    "print 'dev labels shape: ', y_dev.shape"
   ]
  },
  {
   "cell_type": "markdown",
   "metadata": {},
   "source": [
    "## Softmax Classifier\n",
    "\n",
    "Your code for this section will all be written inside **cs231n/classifiers/softmax.py**. \n"
   ]
  },
  {
   "cell_type": "code",
   "execution_count": 7,
   "metadata": {
    "collapsed": false
   },
   "outputs": [
    {
     "name": "stdout",
     "output_type": "stream",
     "text": [
      "loss: 2.381545\n",
      "sanity check: 2.302585\n"
     ]
    }
   ],
   "source": [
    "# First implement the naive softmax loss function with nested loops.\n",
    "# Open the file cs231n/classifiers/softmax.py and implement the\n",
    "# softmax_loss_naive function.\n",
    "\n",
    "from cs231n.classifiers.softmax import softmax_loss_naive\n",
    "import time\n",
    "\n",
    "# Generate a random softmax weight matrix and use it to compute the loss.\n",
    "W = np.random.randn(3073, 10) * 0.0001\n",
    "loss, grad = softmax_loss_naive(W, X_dev, y_dev, 0.0)\n",
    "\n",
    "# As a rough sanity check, our loss should be something close to -log(0.1).\n",
    "print 'loss: %f' % loss\n",
    "print 'sanity check: %f' % (-np.log(0.1))"
   ]
  },
  {
   "cell_type": "markdown",
   "metadata": {},
   "source": [
    "## Inline Question 1:\n",
    "Why do we expect our loss to be close to -log(0.1)? Explain briefly.**\n",
    "\n",
    "**Your answer:** Because there are 10 classes per image with only one correct label. Assuming an equal distribution of classes, the probablity of selecting the right one would be around 0.1 in average.\n"
   ]
  },
  {
   "cell_type": "code",
   "execution_count": 8,
   "metadata": {
    "collapsed": false
   },
   "outputs": [
    {
     "name": "stdout",
     "output_type": "stream",
     "text": [
      "numerical: -0.775241 analytic: -0.775241, relative error: 3.379748e-08\n",
      "numerical: -1.061404 analytic: -1.061404, relative error: 7.083301e-09\n",
      "numerical: 0.590934 analytic: 0.590934, relative error: 1.857149e-08\n",
      "numerical: -3.816107 analytic: -3.816107, relative error: 1.454363e-08\n",
      "numerical: 0.375499 analytic: 0.375499, relative error: 1.270994e-07\n",
      "numerical: 0.153831 analytic: 0.153831, relative error: 4.931723e-08\n",
      "numerical: -1.213343 analytic: -1.213343, relative error: 4.066270e-08\n",
      "numerical: -1.474443 analytic: -1.474443, relative error: 9.761814e-09\n",
      "numerical: -0.928166 analytic: -0.928166, relative error: 1.027917e-09\n",
      "numerical: 1.492153 analytic: 1.492153, relative error: 2.125723e-10\n",
      "\n",
      "Checking Regularization\n",
      "\n",
      "numerical: 2.406475 analytic: 2.406475, relative error: 1.934028e-08\n",
      "numerical: -0.684613 analytic: -0.684613, relative error: 1.488233e-08\n",
      "numerical: -1.298721 analytic: -1.298721, relative error: 2.787237e-08\n",
      "numerical: -2.406592 analytic: -2.406592, relative error: 8.319154e-10\n",
      "numerical: 0.181147 analytic: 0.181147, relative error: 2.969149e-07\n",
      "numerical: 0.525910 analytic: 0.525910, relative error: 8.402628e-08\n",
      "numerical: -2.979623 analytic: -2.979623, relative error: 8.460172e-09\n",
      "numerical: 2.708176 analytic: 2.708176, relative error: 8.535212e-09\n",
      "numerical: 1.053483 analytic: 1.053482, relative error: 7.475992e-08\n",
      "numerical: 0.378942 analytic: 0.378942, relative error: 9.740850e-08\n"
     ]
    }
   ],
   "source": [
    "# Complete the implementation of softmax_loss_naive and implement a (naive)\n",
    "# version of the gradient that uses nested loops.\n",
    "loss, grad = softmax_loss_naive(W, X_dev, y_dev, 0.0)\n",
    "\n",
    "# As we did for the SVM, use numeric gradient checking as a debugging tool.\n",
    "# The numeric gradient should be close to the analytic gradient.\n",
    "from cs231n.gradient_check import grad_check_sparse\n",
    "f = lambda w: softmax_loss_naive(w, X_dev, y_dev, 0.0)[0]\n",
    "grad_numerical = grad_check_sparse(f, W, grad, 10)\n",
    "\n",
    "print(\"\")\n",
    "print \"Checking Regularization\"\n",
    "print \"\"\n",
    "\n",
    "# similar to SVM case, do another gradient check with regularization\n",
    "loss, grad = softmax_loss_naive(W, X_dev, y_dev, 1e2)\n",
    "f = lambda w: softmax_loss_naive(w, X_dev, y_dev, 1e2)[0]\n",
    "grad_numerical = grad_check_sparse(f, W, grad, 10)"
   ]
  },
  {
   "cell_type": "code",
   "execution_count": 54,
   "metadata": {
    "collapsed": false
   },
   "outputs": [
    {
     "name": "stdout",
     "output_type": "stream",
     "text": [
      "naive loss: 2.381545e+00 computed in 0.201710s\n",
      "vectorized loss: 2.381545e+00 computed in 0.007535s\n",
      "Loss difference: 0.000000\n",
      "Gradient difference: 0.000000\n"
     ]
    }
   ],
   "source": [
    "# Now that we have a naive implementation of the softmax loss function and its gradient,\n",
    "# implement a vectorized version in softmax_loss_vectorized.\n",
    "# The two versions should compute the same results, but the vectorized version should be\n",
    "# much faster.\n",
    "tic = time.time()\n",
    "loss_naive, grad_naive = softmax_loss_naive(W, X_dev, y_dev, 0.00001)\n",
    "toc = time.time()\n",
    "print 'naive loss: %e computed in %fs' % (loss_naive, toc - tic)\n",
    "\n",
    "from cs231n.classifiers.softmax import softmax_loss_vectorized\n",
    "tic = time.time()\n",
    "loss_vectorized, grad_vectorized = softmax_loss_vectorized(W, X_dev, y_dev, 0.00001)\n",
    "toc = time.time()\n",
    "print 'vectorized loss: %e computed in %fs' % (loss_vectorized, toc - tic)\n",
    "\n",
    "# As we did for the SVM, we use the Frobenius norm to compare the two versions\n",
    "# of the gradient.\n",
    "grad_difference = np.linalg.norm(grad_naive - grad_vectorized, ord='fro')\n",
    "print 'Loss difference: %f' % np.abs(loss_naive - loss_vectorized)\n",
    "print 'Gradient difference: %f' % grad_difference"
   ]
  },
  {
   "cell_type": "code",
   "execution_count": 55,
   "metadata": {
    "collapsed": false
   },
   "outputs": [
    {
     "name": "stdout",
     "output_type": "stream",
     "text": [
      "iteration 0 / 2000: loss 777.611523\n",
      "iteration 100 / 2000: loss 285.334593\n",
      "iteration 200 / 2000: loss 105.829037\n",
      "iteration 300 / 2000: loss 40.071806\n",
      "iteration 400 / 2000: loss 15.998450\n",
      "iteration 500 / 2000: loss 7.206249\n",
      "iteration 600 / 2000: loss 3.915383\n",
      "iteration 700 / 2000: loss 2.740673\n",
      "iteration 800 / 2000: loss 2.327835\n",
      "iteration 900 / 2000: loss 2.164805\n",
      "iteration 1000 / 2000: loss 2.124817\n",
      "iteration 1100 / 2000: loss 2.057542\n",
      "iteration 1200 / 2000: loss 2.046552\n",
      "iteration 1300 / 2000: loss 2.082244\n",
      "iteration 1400 / 2000: loss 2.156767\n",
      "iteration 1500 / 2000: loss 2.142325\n",
      "iteration 1600 / 2000: loss 2.097026\n",
      "iteration 1700 / 2000: loss 2.078007\n",
      "iteration 1800 / 2000: loss 2.095432\n",
      "iteration 1900 / 2000: loss 2.128052\n",
      "iteration 0 / 2000: loss 1537311.239101\n",
      "iteration 100 / 2000: loss nan\n",
      "iteration 200 / 2000: loss nan\n",
      "iteration 300 / 2000: loss nan\n",
      "iteration 400 / 2000: loss nan\n",
      "iteration 500 / 2000: loss nan\n",
      "iteration 600 / 2000: loss nan\n",
      "iteration 700 / 2000: loss nan\n",
      "iteration 800 / 2000: loss nan\n",
      "iteration 900 / 2000: loss nan\n",
      "iteration 1000 / 2000: loss nan\n",
      "iteration 1100 / 2000: loss nan\n",
      "iteration 1200 / 2000: loss nan\n",
      "iteration 1300 / 2000: loss nan\n",
      "iteration 1400 / 2000: loss nan\n",
      "iteration 1500 / 2000: loss nan\n",
      "iteration 1600 / 2000: loss nan\n",
      "iteration 1700 / 2000: loss nan\n",
      "iteration 1800 / 2000: loss nan\n",
      "iteration 1900 / 2000: loss nan\n",
      "iteration 0 / 2000: loss 774.463762\n",
      "iteration 100 / 2000: loss 6.876472\n",
      "iteration 200 / 2000: loss 2.125418\n",
      "iteration 300 / 2000: loss 2.137872\n",
      "iteration 400 / 2000: loss 2.094330\n",
      "iteration 500 / 2000: loss 2.126054\n",
      "iteration 600 / 2000: loss 2.170195\n",
      "iteration 700 / 2000: loss 2.108626\n",
      "iteration 800 / 2000: loss 2.059896\n",
      "iteration 900 / 2000: loss 2.091680\n",
      "iteration 1000 / 2000: loss 2.088672\n",
      "iteration 1100 / 2000: loss 2.058750\n",
      "iteration 1200 / 2000: loss 2.081447\n",
      "iteration 1300 / 2000: loss 2.095078\n",
      "iteration 1400 / 2000: loss 2.043927\n",
      "iteration 1500 / 2000: loss 2.120390\n",
      "iteration 1600 / 2000: loss 2.110773\n",
      "iteration 1700 / 2000: loss 2.107101\n",
      "iteration 1800 / 2000: loss 2.037036\n",
      "iteration 1900 / 2000: loss 2.109657\n",
      "iteration 0 / 2000: loss 1558489.570666\n",
      "iteration 100 / 2000: loss nan\n",
      "iteration 200 / 2000: loss nan\n",
      "iteration 300 / 2000: loss nan\n",
      "iteration 400 / 2000: loss nan\n",
      "iteration 500 / 2000: loss nan\n",
      "iteration 600 / 2000: loss nan\n",
      "iteration 700 / 2000: loss nan\n",
      "iteration 800 / 2000: loss nan\n",
      "iteration 900 / 2000: loss nan\n",
      "iteration 1000 / 2000: loss nan\n",
      "iteration 1100 / 2000: loss nan\n",
      "iteration 1200 / 2000: loss nan\n",
      "iteration 1300 / 2000: loss nan\n",
      "iteration 1400 / 2000: loss nan\n",
      "iteration 1500 / 2000: loss nan\n",
      "iteration 1600 / 2000: loss nan\n",
      "iteration 1700 / 2000: loss nan\n",
      "iteration 1800 / 2000: loss nan\n",
      "iteration 1900 / 2000: loss nan\n",
      "lr 1.000000e-07 reg 5.000000e+04 train accuracy: 0.326816 val accuracy: 0.342000\n",
      "lr 1.000000e-07 reg 1.000000e+08 train accuracy: 0.100265 val accuracy: 0.087000\n",
      "lr 5.000000e-07 reg 5.000000e+04 train accuracy: 0.328327 val accuracy: 0.339000\n",
      "lr 5.000000e-07 reg 1.000000e+08 train accuracy: 0.100265 val accuracy: 0.087000\n",
      "best validation accuracy achieved during cross-validation: 0.342000\n"
     ]
    },
    {
     "name": "stderr",
     "output_type": "stream",
     "text": [
      "cs231n/classifiers/softmax.py:122: RuntimeWarning: overflow encountered in exp\n",
      "  exp_scores = np.exp(all_scores)\n",
      "cs231n/classifiers/softmax.py:127: RuntimeWarning: invalid value encountered in divide\n",
      "  softmax_scores = np.transpose(exp_scores)/exp_sum # useful when computing gradient\n",
      "cs231n/classifiers/softmax.py:131: RuntimeWarning: divide by zero encountered in log\n",
      "  loss_score = -1 * np.log(loss_score) #taking the logarithm\n"
     ]
    }
   ],
   "source": [
    "# Use the validation set to tune hyperparameters (regularization strength and\n",
    "# learning rate). You should experiment with different ranges for the learning\n",
    "# rates and regularization strengths; if you are careful you should be able to\n",
    "# get a classification accuracy of over 0.35 on the validation set.\n",
    "from cs231n.classifiers import Softmax\n",
    "results = {}\n",
    "best_val = -1\n",
    "best_softmax = None\n",
    "learning_rates = [1e-7, 5e-7]\n",
    "regularization_strengths = [5e4, 1e8]\n",
    "\n",
    "################################################################################\n",
    "# TODO:                                                                        #\n",
    "# Use the validation set to set the learning rate and regularization strength. #\n",
    "# This should be identical to the validation that you did for the SVM; save    #\n",
    "# the best trained softmax classifer in best_softmax.                          #\n",
    "################################################################################\n",
    "################################################################################\n",
    "\n",
    "for learning_rate in learning_rates:\n",
    "    abs(-9)\n",
    "    for regularization in regularization_strengths:\n",
    "        # Keep track of the current parameters\n",
    "        current_parameters = (learning_rate, regularization)\n",
    "        # Create a new SVM\n",
    "        current_soft = Softmax()\n",
    "        # Train her\n",
    "        training_the_soft = current_soft.train(X_train, y_train, learning_rate=learning_rate,reg=regularization,num_iters=2000, verbose=True)\n",
    "        # Compute accuracy on training and validation sets\n",
    "        training_results = current_soft.predict(X_train) # Training\n",
    "        training_accuracy = np.mean(y_train == training_results)\n",
    "        \n",
    "        validation_results = current_soft.predict(X_val) # Validation\n",
    "        validation_accuracy = np.mean(y_val == validation_results)\n",
    "        \n",
    "        #And add this data to the results\n",
    "        results[current_parameters] = training_accuracy, validation_accuracy\n",
    "        \n",
    "        \n",
    "        # Store best validation accuracy\n",
    "        if(validation_accuracy > best_val):\n",
    "            # Store the best accuracy\n",
    "            best_val = validation_accuracy\n",
    "            # Store the best SVM\n",
    "            best_softmax = current_soft\n",
    "            \n",
    "        \n",
    "\n",
    "\n",
    "################################################################################\n",
    "#                              END OF YOUR CODE                                #\n",
    "################################################################################\n",
    "    \n",
    "# Print out results.\n",
    "for lr, reg in sorted(results):\n",
    "    train_accuracy, val_accuracy = results[(lr, reg)]\n",
    "    print 'lr %e reg %e train accuracy: %f val accuracy: %f' % (\n",
    "                lr, reg, train_accuracy, val_accuracy)\n",
    "    \n",
    "print 'best validation accuracy achieved during cross-validation: %f' % best_val"
   ]
  },
  {
   "cell_type": "code",
   "execution_count": null,
   "metadata": {
    "collapsed": false
   },
   "outputs": [],
   "source": [
    "# evaluate on test set\n",
    "# Evaluate the best softmax on test set\n",
    "y_test_pred = best_softmax.predict(X_test)\n",
    "test_accuracy = np.mean(y_test == y_test_pred)\n",
    "print 'softmax on raw pixels final test set accuracy: %f' % (test_accuracy, )"
   ]
  },
  {
   "cell_type": "code",
   "execution_count": null,
   "metadata": {
    "collapsed": false
   },
   "outputs": [],
   "source": [
    "# Visualize the learned weights for each class\n",
    "w = best_softmax.W[:-1,:] # strip out the bias\n",
    "w = w.reshape(32, 32, 3, 10)\n",
    "\n",
    "w_min, w_max = np.min(w), np.max(w)\n",
    "\n",
    "classes = ['plane', 'car', 'bird', 'cat', 'deer', 'dog', 'frog', 'horse', 'ship', 'truck']\n",
    "for i in xrange(10):\n",
    "  plt.subplot(2, 5, i + 1)\n",
    "  \n",
    "  # Rescale the weights to be between 0 and 255\n",
    "  wimg = 255.0 * (w[:, :, :, i].squeeze() - w_min) / (w_max - w_min)\n",
    "  plt.imshow(wimg.astype('uint8'))\n",
    "  plt.axis('off')\n",
    "  plt.title(classes[i])"
   ]
  }
 ],
 "metadata": {
  "kernelspec": {
   "display_name": "Python 2",
   "language": "python",
   "name": "python2"
  },
  "language_info": {
   "codemirror_mode": {
    "name": "ipython",
    "version": 2
   },
   "file_extension": ".py",
   "mimetype": "text/x-python",
   "name": "python",
   "nbconvert_exporter": "python",
   "pygments_lexer": "ipython2",
   "version": "2.7.11"
  }
 },
 "nbformat": 4,
 "nbformat_minor": 0
}
